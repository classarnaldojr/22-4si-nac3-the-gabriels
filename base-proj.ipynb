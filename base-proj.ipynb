{
  "cells": [
    {
      "cell_type": "markdown",
      "metadata": {
        "id": "5vBKzDAOCV_r"
      },
      "source": [
        "# NAC3 - Aprendizado de maquina\n",
        "\n",
        "| Nome dos Integrantes     | RM             | Turma   |\n",
        "| :----------------------- | :------------- | :-----: |\n",
        "| Gabriel Borowiec Marciano | RM 81779       | 4SIA    |\n",
        "| Gabriel Juncken Costa     | RM 82460       | 4SIA    |\n",
        "\n",
        "\n",
        "## Data de entrega final\n",
        "\n",
        "Será considerado para avaliação e correção o ultimo commit do `** dia 11/09 (domingo) **`\n",
        "\n",
        "`O grupo deve responder ao Google forms` : [https://forms.gle/EEYUkZiWcJ6Xduah6](https://forms.gle/EEYUkZiWcJ6Xduah6)\n",
        "\n",
        "\n",
        "## Rubrica \n",
        "\n",
        "Os critérios de avaliação do projeto será conforme a rubrica.\n",
        "\n",
        "\n",
        "- R1: Exploração de Dados (Até 1 ponto)\n",
        "- R2: Preparação de Dados (Até 2 ponto)\n",
        "- R3: Desenvolvimento do Modelo (Até 1 ponto)\n",
        "- R4: Treinamento e Teste do Modelo (Até 2 ponto)\n",
        "- R5: Validação e Otimização do Modelo (Até 3 ponto)\n",
        "- R6: Conclusões Finais (Até 1 ponto)\n",
        "- R7: Deploy (Até 2 pontos *extra) \n",
        "\n",
        "Nota_final = R1 + R2 + R3 + R4 + R5 + R6 + R7\n",
        "\n",
        "\n",
        "``Siga todas as instruções deste noteboook, mas não limite suas análises apenas ao conteúdo visto em aula.``\n",
        "\n",
        "\n",
        "Nas celulas **Seu Código aqui...** significa que é necessário realizar a implementação de algum código. Utilize quantos blocos julgar necessário para criar o código de resposta.\n",
        "\n",
        "Nas celulas **Responda** significa que é nessário uma resposta clara e objetiva (pode ser por texto, gráfico, imagem...) para a pergunta.\n",
        "\n",
        "**Respeite a rubrica e não responda fora de ordem ou sequência**\n",
        "\n"
      ]
    },
    {
      "cell_type": "markdown",
      "metadata": {
        "id": "vm0KYamcCV_t"
      },
      "source": [
        "## Análise preditiva de doeça cardíaca em pacientes\n",
        "\n",
        "![](coracao.jpg)\n",
        "\n",
        "\n",
        "\n",
        "Vamos trabalhar com um CONJUNTO DE DADOS DE DOENÇA CARDÍACA afim de ``predizer a presença ou não de doenças do coração em pacientes``.    \n",
        "\n",
        "[dataset: https://ieee-dataport.org/open-access/heart-disease-dataset-comprehensive](https://ieee-dataport.org/open-access/heart-disease-dataset-comprehensive).\n"
      ]
    },
    {
      "cell_type": "markdown",
      "metadata": {
        "id": "eyZFkfjbCV_t"
      },
      "source": [
        "## 1. Exploração de Dados"
      ]
    },
    {
      "cell_type": "markdown",
      "metadata": {
        "id": "GkAWpRnpCV_t"
      },
      "source": [
        "Carregue o dataset e faça uma visualização das primeiras linhas (identificação básica apenas confirmar se a base foi carregada corretamente).\n"
      ]
    },
    {
      "cell_type": "code",
      "execution_count": 3,
      "metadata": {
        "collapsed": true,
        "id": "UaAH4qP2CV_t"
      },
      "outputs": [],
      "source": [
        "import seaborn as sns\n",
        "import matplotlib.pyplot as plt\n",
        "import pandas as pd\n",
        "import numpy as np\n",
        "from scipy import stats\n",
        "from sklearn.preprocessing import LabelEncoder\n",
        "from sklearn.preprocessing import MinMaxScaler\n",
        "from sklearn.model_selection import train_test_split\n",
        "from sklearn.neighbors import KNeighborsClassifier\n",
        "from sklearn.metrics import accuracy_score\n",
        "from sklearn.linear_model import LinearRegression\n",
        "from sklearn.metrics import r2_score, mean_squared_error,mean_absolute_error\n",
        "import tensorflow as tf\n",
        "from tensorflow import keras\n",
        "from keras import layers\n",
        "from sklearn.model_selection import GridSearchCV\n",
        "from sklearn.pipeline import Pipeline\n",
        "\n",
        "%matplotlib inline"
      ]
    },
    {
      "cell_type": "code",
      "execution_count": 4,
      "metadata": {
        "colab": {
          "base_uri": "https://localhost:8080/",
          "height": 206
        },
        "collapsed": true,
        "id": "yUHYBHhbCV_u",
        "outputId": "6a369cc5-2249-408e-e119-2a6fa1c017e2"
      },
      "outputs": [
        {
          "data": {
            "text/html": [
              "\n",
              "  <div id=\"df-8a10f4a4-6be4-4f1a-a758-ddc62366272c\">\n",
              "    <div class=\"colab-df-container\">\n",
              "      <div>\n",
              "<style scoped>\n",
              "    .dataframe tbody tr th:only-of-type {\n",
              "        vertical-align: middle;\n",
              "    }\n",
              "\n",
              "    .dataframe tbody tr th {\n",
              "        vertical-align: top;\n",
              "    }\n",
              "\n",
              "    .dataframe thead th {\n",
              "        text-align: right;\n",
              "    }\n",
              "</style>\n",
              "<table border=\"1\" class=\"dataframe\">\n",
              "  <thead>\n",
              "    <tr style=\"text-align: right;\">\n",
              "      <th></th>\n",
              "      <th>age</th>\n",
              "      <th>sex</th>\n",
              "      <th>chest pain type</th>\n",
              "      <th>resting bp s</th>\n",
              "      <th>cholesterol</th>\n",
              "      <th>fasting blood sugar</th>\n",
              "      <th>resting ecg</th>\n",
              "      <th>max heart rate</th>\n",
              "      <th>exercise angina</th>\n",
              "      <th>oldpeak</th>\n",
              "      <th>ST slope</th>\n",
              "      <th>class</th>\n",
              "    </tr>\n",
              "  </thead>\n",
              "  <tbody>\n",
              "    <tr>\n",
              "      <th>0</th>\n",
              "      <td>40</td>\n",
              "      <td>male</td>\n",
              "      <td>2</td>\n",
              "      <td>140</td>\n",
              "      <td>289</td>\n",
              "      <td>0</td>\n",
              "      <td>0</td>\n",
              "      <td>172</td>\n",
              "      <td>no</td>\n",
              "      <td>0</td>\n",
              "      <td>1</td>\n",
              "      <td>Normal</td>\n",
              "    </tr>\n",
              "    <tr>\n",
              "      <th>1</th>\n",
              "      <td>49</td>\n",
              "      <td>female</td>\n",
              "      <td>3</td>\n",
              "      <td>160</td>\n",
              "      <td>180</td>\n",
              "      <td>0</td>\n",
              "      <td>0</td>\n",
              "      <td>156</td>\n",
              "      <td>no</td>\n",
              "      <td>10</td>\n",
              "      <td>2</td>\n",
              "      <td>heart disease</td>\n",
              "    </tr>\n",
              "    <tr>\n",
              "      <th>2</th>\n",
              "      <td>37</td>\n",
              "      <td>male</td>\n",
              "      <td>2</td>\n",
              "      <td>130</td>\n",
              "      <td>283</td>\n",
              "      <td>0</td>\n",
              "      <td>1</td>\n",
              "      <td>98</td>\n",
              "      <td>no</td>\n",
              "      <td>0</td>\n",
              "      <td>1</td>\n",
              "      <td>Normal</td>\n",
              "    </tr>\n",
              "    <tr>\n",
              "      <th>3</th>\n",
              "      <td>48</td>\n",
              "      <td>female</td>\n",
              "      <td>4</td>\n",
              "      <td>138</td>\n",
              "      <td>214</td>\n",
              "      <td>0</td>\n",
              "      <td>0</td>\n",
              "      <td>108</td>\n",
              "      <td>yes</td>\n",
              "      <td>15</td>\n",
              "      <td>2</td>\n",
              "      <td>heart disease</td>\n",
              "    </tr>\n",
              "    <tr>\n",
              "      <th>4</th>\n",
              "      <td>54</td>\n",
              "      <td>male</td>\n",
              "      <td>3</td>\n",
              "      <td>150</td>\n",
              "      <td>195</td>\n",
              "      <td>0</td>\n",
              "      <td>0</td>\n",
              "      <td>122</td>\n",
              "      <td>no</td>\n",
              "      <td>0</td>\n",
              "      <td>1</td>\n",
              "      <td>Normal</td>\n",
              "    </tr>\n",
              "  </tbody>\n",
              "</table>\n",
              "</div>\n",
              "      <button class=\"colab-df-convert\" onclick=\"convertToInteractive('df-8a10f4a4-6be4-4f1a-a758-ddc62366272c')\"\n",
              "              title=\"Convert this dataframe to an interactive table.\"\n",
              "              style=\"display:none;\">\n",
              "        \n",
              "  <svg xmlns=\"http://www.w3.org/2000/svg\" height=\"24px\"viewBox=\"0 0 24 24\"\n",
              "       width=\"24px\">\n",
              "    <path d=\"M0 0h24v24H0V0z\" fill=\"none\"/>\n",
              "    <path d=\"M18.56 5.44l.94 2.06.94-2.06 2.06-.94-2.06-.94-.94-2.06-.94 2.06-2.06.94zm-11 1L8.5 8.5l.94-2.06 2.06-.94-2.06-.94L8.5 2.5l-.94 2.06-2.06.94zm10 10l.94 2.06.94-2.06 2.06-.94-2.06-.94-.94-2.06-.94 2.06-2.06.94z\"/><path d=\"M17.41 7.96l-1.37-1.37c-.4-.4-.92-.59-1.43-.59-.52 0-1.04.2-1.43.59L10.3 9.45l-7.72 7.72c-.78.78-.78 2.05 0 2.83L4 21.41c.39.39.9.59 1.41.59.51 0 1.02-.2 1.41-.59l7.78-7.78 2.81-2.81c.8-.78.8-2.07 0-2.86zM5.41 20L4 18.59l7.72-7.72 1.47 1.35L5.41 20z\"/>\n",
              "  </svg>\n",
              "      </button>\n",
              "      \n",
              "  <style>\n",
              "    .colab-df-container {\n",
              "      display:flex;\n",
              "      flex-wrap:wrap;\n",
              "      gap: 12px;\n",
              "    }\n",
              "\n",
              "    .colab-df-convert {\n",
              "      background-color: #E8F0FE;\n",
              "      border: none;\n",
              "      border-radius: 50%;\n",
              "      cursor: pointer;\n",
              "      display: none;\n",
              "      fill: #1967D2;\n",
              "      height: 32px;\n",
              "      padding: 0 0 0 0;\n",
              "      width: 32px;\n",
              "    }\n",
              "\n",
              "    .colab-df-convert:hover {\n",
              "      background-color: #E2EBFA;\n",
              "      box-shadow: 0px 1px 2px rgba(60, 64, 67, 0.3), 0px 1px 3px 1px rgba(60, 64, 67, 0.15);\n",
              "      fill: #174EA6;\n",
              "    }\n",
              "\n",
              "    [theme=dark] .colab-df-convert {\n",
              "      background-color: #3B4455;\n",
              "      fill: #D2E3FC;\n",
              "    }\n",
              "\n",
              "    [theme=dark] .colab-df-convert:hover {\n",
              "      background-color: #434B5C;\n",
              "      box-shadow: 0px 1px 3px 1px rgba(0, 0, 0, 0.15);\n",
              "      filter: drop-shadow(0px 1px 2px rgba(0, 0, 0, 0.3));\n",
              "      fill: #FFFFFF;\n",
              "    }\n",
              "  </style>\n",
              "\n",
              "      <script>\n",
              "        const buttonEl =\n",
              "          document.querySelector('#df-8a10f4a4-6be4-4f1a-a758-ddc62366272c button.colab-df-convert');\n",
              "        buttonEl.style.display =\n",
              "          google.colab.kernel.accessAllowed ? 'block' : 'none';\n",
              "\n",
              "        async function convertToInteractive(key) {\n",
              "          const element = document.querySelector('#df-8a10f4a4-6be4-4f1a-a758-ddc62366272c');\n",
              "          const dataTable =\n",
              "            await google.colab.kernel.invokeFunction('convertToInteractive',\n",
              "                                                     [key], {});\n",
              "          if (!dataTable) return;\n",
              "\n",
              "          const docLinkHtml = 'Like what you see? Visit the ' +\n",
              "            '<a target=\"_blank\" href=https://colab.research.google.com/notebooks/data_table.ipynb>data table notebook</a>'\n",
              "            + ' to learn more about interactive tables.';\n",
              "          element.innerHTML = '';\n",
              "          dataTable['output_type'] = 'display_data';\n",
              "          await google.colab.output.renderOutput(dataTable, element);\n",
              "          const docLink = document.createElement('div');\n",
              "          docLink.innerHTML = docLinkHtml;\n",
              "          element.appendChild(docLink);\n",
              "        }\n",
              "      </script>\n",
              "    </div>\n",
              "  </div>\n",
              "  "
            ],
            "text/plain": [
              "   age     sex  chest pain type  resting bp s  cholesterol  \\\n",
              "0   40    male                2           140          289   \n",
              "1   49  female                3           160          180   \n",
              "2   37    male                2           130          283   \n",
              "3   48  female                4           138          214   \n",
              "4   54    male                3           150          195   \n",
              "\n",
              "   fasting blood sugar  resting ecg  max heart rate exercise angina  oldpeak  \\\n",
              "0                    0            0             172              no        0   \n",
              "1                    0            0             156              no       10   \n",
              "2                    0            1              98              no        0   \n",
              "3                    0            0             108             yes       15   \n",
              "4                    0            0             122              no        0   \n",
              "\n",
              "   ST slope          class  \n",
              "0         1         Normal  \n",
              "1         2  heart disease  \n",
              "2         1         Normal  \n",
              "3         2  heart disease  \n",
              "4         1         Normal  "
            ]
          },
          "execution_count": 4,
          "metadata": {},
          "output_type": "execute_result"
        }
      ],
      "source": [
        "#Seu Código aqui...\n",
        "df = pd.read_csv('heart_statlog_cleveland_hungary_final2.csv')\n",
        "\n",
        "df.head()\n"
      ]
    },
    {
      "cell_type": "markdown",
      "metadata": {
        "id": "5ZsfQ0egCV_v"
      },
      "source": [
        "**Pergunta:** Apresente (Escreva) uma descrição dos atributos (colunas) e seu significado:\n",
        "\n",
        "Exemplo: \n",
        "\n",
        "- id: Representa o fabricante\n",
        "- fuel_type: tipo de combustível (pode ser Gasolina ou Disel)\n",
        "- price: Representa o valor do carro (**Variável Alvo, atributo que será predito pelo modelo de ML**)"
      ]
    },
    {
      "cell_type": "markdown",
      "metadata": {
        "id": "HdHu8z-CCV_v"
      },
      "source": [
        "**Responda**\n",
        "\n",
        "* Age: Idade da pessoa em anos.\n",
        "* Sex: Sexo da pessoa.\n",
        "* Chest Pain Type: Tipo da dor no peito.\n",
        "* Resting bp s: Pressão arterial.\n",
        "* cholesterol: Colesterol no sangue da pessoa.\n",
        "* fasting blood sugar: Açúcar acima de 120 mg, descrito na forma de um booleano \n",
        "* resting ecg: Normal, tem anormalidade e tem hipertrofia pelos critérios de Estes.\n",
        "* max heart rate: Frequência cardíaca máxima atingida\n",
        "* exercise angina: a pessoa realiza ou não exercícios cardio vasculares\n",
        "* oldpeak: Encontro no eletrocardiograma em que o traço está anormalmente abaixo da linha de base.\n",
        "* ST slope: presença de inclinação do Segmento ST.\n",
        "* Class: Indica se apresenta doença de coração ou não."
      ]
    },
    {
      "cell_type": "markdown",
      "metadata": {
        "id": "dOGLWw8eCV_v"
      },
      "source": [
        "### Análise profunda dos dados\n",
        "\n",
        "Faça uma análise exploratória dos dados. Utilize-se de gráficos e tabelas auxiliares, faça correlações entre os atributos para compreeder a natureza do problema."
      ]
    },
    {
      "cell_type": "code",
      "execution_count": 5,
      "metadata": {
        "colab": {
          "base_uri": "https://localhost:8080/",
          "height": 669
        },
        "collapsed": true,
        "id": "exnGaUGVCV_w",
        "outputId": "5e787fcc-d264-4c01-9ce2-6dc3cbb900e0"
      },
      "outputs": [
        {
          "name": "stderr",
          "output_type": "stream",
          "text": [
            "/usr/local/lib/python3.7/dist-packages/ipykernel_launcher.py:6: FutureWarning: In a future version of pandas all arguments of DataFrame.sort_values except for the argument 'by' will be keyword-only\n",
            "  \n"
          ]
        },
        {
          "data": {
            "text/plain": [
              "<Figure size 72x72 with 0 Axes>"
            ]
          },
          "metadata": {},
          "output_type": "display_data"
        },
        {
          "data": {
            "image/png": "[encoded data removed]",
            "text/plain": [
              "<Figure size 432x288 with 1 Axes>"
            ]
          },
          "metadata": {
            "needs_background": "light"
          },
          "output_type": "display_data"
        },
        {
          "name": "stdout",
          "output_type": "stream",
          "text": [
            "Açucar acima de 120 em homens: 217\n",
            "Açucar acima de 120 em mulheres: 973\n"
          ]
        },
        {
          "data": {
            "image/png": "[encoded data removed]",
            "text/plain": [
              "<Figure size 432x288 with 1 Axes>"
            ]
          },
          "metadata": {
            "needs_background": "light"
          },
          "output_type": "display_data"
        },
        {
          "name": "stdout",
          "output_type": "stream",
          "text": [
            "Doença cardíaca em homens: 559\n",
            "Doença cardíaca em mulheres: 631\n"
          ]
        }
      ],
      "source": [
        "labelencoder = LabelEncoder()\n",
        "\n",
        "dfClasse = df.copy()\n",
        "dfClasse['class'] = labelencoder.fit_transform(df['class'])\n",
        "\n",
        "dfIdade = df.sort_values('age', 0, True)\n",
        "\n",
        "nivelAcucarMasc = 0\n",
        "nivelAcucarFem = 0\n",
        "\n",
        "for index, row in df.iterrows():\n",
        "    if row['sex'] == 'male' and row['fasting blood sugar'] != 0:\n",
        "        nivelAcucarMasc = nivelAcucarMasc + 1\n",
        "    else:\n",
        "        nivelAcucarFem = nivelAcucarFem + 1\n",
        "\n",
        "DoencaMasc = 0\n",
        "DoencaFem = 0\n",
        "for index, row in dfClasse.iterrows():\n",
        "    if row['sex'] == 'male' and row['class'] != 0:\n",
        "        DoencaMasc = DoencaMasc + 1\n",
        "    else:\n",
        "        DoencaFem = DoencaFem + 1\n",
        "\n",
        "plt.figure(figsize=(1, 1))\n",
        "figure, axis = plt.subplots(1, 1)\n",
        "axis.plot(dfIdade['age'], dfIdade['cholesterol'])\n",
        "plt.show()\n",
        "\n",
        "print('Açucar acima de 120 em homens: ' + str(nivelAcucarMasc))\n",
        "print('Açucar acima de 120 em mulheres: ' + str(nivelAcucarFem))\n",
        "\n",
        "g = sns.violinplot(x='age', data=dfIdade, inner='quartile')\n",
        "plt.show()\n",
        "\n",
        "print('Doença cardíaca em homens: ' + str(DoencaMasc))\n",
        "print('Doença cardíaca em mulheres: ' + str(DoencaFem))"
      ]
    },
    {
      "cell_type": "markdown",
      "metadata": {
        "id": "2ilINkiyCV_w"
      },
      "source": [
        "**Perguntas:** \n",
        "\n",
        "1. Qual a relação entre a idade e colesterol?\n",
        "2. O indice açucar no sangue > 120 mg/dl é mais frequênte em homens ou mulheres?\n",
        "3. Qual a distribuição de idade do dataset?\n",
        "4. Pessoas com presença de doença cardiaca são em sua maioria do grupo masculino ou feminino? "
      ]
    },
    {
      "cell_type": "markdown",
      "metadata": {
        "id": "o2dzKRl1CV_w"
      },
      "source": [
        "**Respostas:**\n",
        "\n",
        "1. Após a análise, os dados de idade e colesterol não se relacionam.\n",
        "2. A partir dos dados analisados percebemos que o sexo com maior indice de açúcar são as mulheres.\n",
        "3. Com o auxílio do gráfico violino, é possível afirmar que a maior quantidade de possas dentro da base estão entre 45 e 60 anos.\n",
        "4. A partir da analises, percebemos que doenças cardíacas ocorrem mais em mulheres do que em homens."
      ]
    },
    {
      "cell_type": "markdown",
      "metadata": {
        "id": "kss705LMCV_x"
      },
      "source": [
        "## 2. Preparação dos Dados\n",
        "\n",
        "**Lembre-se:** Trate esses dados dentro do contexto do problema. ``Justifique suas escolhas``."
      ]
    },
    {
      "cell_type": "markdown",
      "metadata": {
        "id": "xPehpX6FCV_x"
      },
      "source": [
        "### Análise de valores inválidos\n",
        "\n",
        "Faça a análise de dados ausente, dados nulos e dados iguais a 0(zero)."
      ]
    },
    {
      "cell_type": "code",
      "execution_count": 6,
      "metadata": {
        "colab": {
          "base_uri": "https://localhost:8080/"
        },
        "collapsed": true,
        "id": "KAi-flLzCV_x",
        "outputId": "7d7927a5-903a-44b5-a205-8a4d12492d71"
      },
      "outputs": [
        {
          "name": "stdout",
          "output_type": "stream",
          "text": [
            "<class 'pandas.core.frame.DataFrame'>\n",
            "RangeIndex: 1190 entries, 0 to 1189\n",
            "Data columns (total 12 columns):\n",
            " #   Column               Non-Null Count  Dtype \n",
            "---  ------               --------------  ----- \n",
            " 0   age                  1190 non-null   int64 \n",
            " 1   sex                  1190 non-null   object\n",
            " 2   chest pain type      1190 non-null   int64 \n",
            " 3   resting bp s         1190 non-null   int64 \n",
            " 4   cholesterol          1190 non-null   int64 \n",
            " 5   fasting blood sugar  1190 non-null   int64 \n",
            " 6   resting ecg          1190 non-null   int64 \n",
            " 7   max heart rate       1190 non-null   int64 \n",
            " 8   exercise angina      1190 non-null   object\n",
            " 9   oldpeak              1190 non-null   int64 \n",
            " 10  ST slope             1190 non-null   int64 \n",
            " 11  class                1190 non-null   object\n",
            "dtypes: int64(9), object(3)\n",
            "memory usage: 111.7+ KB\n"
          ]
        }
      ],
      "source": [
        "df.info()"
      ]
    },
    {
      "cell_type": "markdown",
      "metadata": {
        "id": "sKMas6kSCV_x"
      },
      "source": [
        "**Pergunta:** Foram localizados dados ausente, dados nulos e dados iguais a 0(zero)? Se existe, como foram tratados (removidos ou mantidos ou substituidos ou ....)? "
      ]
    },
    {
      "cell_type": "markdown",
      "metadata": {
        "id": "9hBELlruCV_x"
      },
      "source": [
        "**Resposta:**\n",
        "\n",
        "Não há dados faltando, e os zeros foram mantidos."
      ]
    },
    {
      "cell_type": "markdown",
      "metadata": {
        "id": "05NOU7ZcCV_x"
      },
      "source": [
        "### Análise de Outliers\n",
        "\n",
        "Faça a análise de outliers."
      ]
    },
    {
      "cell_type": "code",
      "execution_count": 7,
      "metadata": {
        "colab": {
          "base_uri": "https://localhost:8080/",
          "height": 310
        },
        "id": "JM8igbUpCV_x",
        "outputId": "e4f527ff-7a17-489e-a579-16dea050578e"
      },
      "outputs": [
        {
          "name": "stderr",
          "output_type": "stream",
          "text": [
            "/usr/local/lib/python3.7/dist-packages/ipykernel_launcher.py:2: SettingWithCopyWarning: \n",
            "A value is trying to be set on a copy of a slice from a DataFrame.\n",
            "Try using .loc[row_indexer,col_indexer] = value instead\n",
            "\n",
            "See the caveats in the documentation: https://pandas.pydata.org/pandas-docs/stable/user_guide/indexing.html#returning-a-view-versus-a-copy\n",
            "  \n"
          ]
        },
        {
          "data": {
            "text/html": [
              "\n",
              "  <div id=\"df-f0c65f52-9b8d-44c9-bd1a-bd4c8cc5e841\">\n",
              "    <div class=\"colab-df-container\">\n",
              "      <div>\n",
              "<style scoped>\n",
              "    .dataframe tbody tr th:only-of-type {\n",
              "        vertical-align: middle;\n",
              "    }\n",
              "\n",
              "    .dataframe tbody tr th {\n",
              "        vertical-align: top;\n",
              "    }\n",
              "\n",
              "    .dataframe thead th {\n",
              "        text-align: right;\n",
              "    }\n",
              "</style>\n",
              "<table border=\"1\" class=\"dataframe\">\n",
              "  <thead>\n",
              "    <tr style=\"text-align: right;\">\n",
              "      <th></th>\n",
              "      <th>age</th>\n",
              "      <th>sex</th>\n",
              "      <th>chest pain type</th>\n",
              "      <th>resting bp s</th>\n",
              "      <th>cholesterol</th>\n",
              "      <th>fasting blood sugar</th>\n",
              "      <th>resting ecg</th>\n",
              "      <th>max heart rate</th>\n",
              "      <th>exercise angina</th>\n",
              "      <th>oldpeak</th>\n",
              "      <th>ST slope</th>\n",
              "      <th>class</th>\n",
              "    </tr>\n",
              "  </thead>\n",
              "  <tbody>\n",
              "    <tr>\n",
              "      <th>0</th>\n",
              "      <td>40</td>\n",
              "      <td>male</td>\n",
              "      <td>2</td>\n",
              "      <td>140</td>\n",
              "      <td>289</td>\n",
              "      <td>0</td>\n",
              "      <td>0</td>\n",
              "      <td>172</td>\n",
              "      <td>no</td>\n",
              "      <td>0</td>\n",
              "      <td>1</td>\n",
              "      <td>Normal</td>\n",
              "    </tr>\n",
              "    <tr>\n",
              "      <th>1</th>\n",
              "      <td>49</td>\n",
              "      <td>female</td>\n",
              "      <td>3</td>\n",
              "      <td>160</td>\n",
              "      <td>180</td>\n",
              "      <td>0</td>\n",
              "      <td>0</td>\n",
              "      <td>156</td>\n",
              "      <td>no</td>\n",
              "      <td>10</td>\n",
              "      <td>2</td>\n",
              "      <td>heart disease</td>\n",
              "    </tr>\n",
              "    <tr>\n",
              "      <th>2</th>\n",
              "      <td>37</td>\n",
              "      <td>male</td>\n",
              "      <td>2</td>\n",
              "      <td>130</td>\n",
              "      <td>283</td>\n",
              "      <td>0</td>\n",
              "      <td>1</td>\n",
              "      <td>98</td>\n",
              "      <td>no</td>\n",
              "      <td>0</td>\n",
              "      <td>1</td>\n",
              "      <td>Normal</td>\n",
              "    </tr>\n",
              "    <tr>\n",
              "      <th>3</th>\n",
              "      <td>48</td>\n",
              "      <td>female</td>\n",
              "      <td>4</td>\n",
              "      <td>138</td>\n",
              "      <td>214</td>\n",
              "      <td>0</td>\n",
              "      <td>0</td>\n",
              "      <td>108</td>\n",
              "      <td>yes</td>\n",
              "      <td>15</td>\n",
              "      <td>2</td>\n",
              "      <td>heart disease</td>\n",
              "    </tr>\n",
              "    <tr>\n",
              "      <th>4</th>\n",
              "      <td>54</td>\n",
              "      <td>male</td>\n",
              "      <td>3</td>\n",
              "      <td>150</td>\n",
              "      <td>195</td>\n",
              "      <td>0</td>\n",
              "      <td>0</td>\n",
              "      <td>122</td>\n",
              "      <td>no</td>\n",
              "      <td>0</td>\n",
              "      <td>1</td>\n",
              "      <td>Normal</td>\n",
              "    </tr>\n",
              "  </tbody>\n",
              "</table>\n",
              "</div>\n",
              "      <button class=\"colab-df-convert\" onclick=\"convertToInteractive('df-f0c65f52-9b8d-44c9-bd1a-bd4c8cc5e841')\"\n",
              "              title=\"Convert this dataframe to an interactive table.\"\n",
              "              style=\"display:none;\">\n",
              "        \n",
              "  <svg xmlns=\"http://www.w3.org/2000/svg\" height=\"24px\"viewBox=\"0 0 24 24\"\n",
              "       width=\"24px\">\n",
              "    <path d=\"M0 0h24v24H0V0z\" fill=\"none\"/>\n",
              "    <path d=\"M18.56 5.44l.94 2.06.94-2.06 2.06-.94-2.06-.94-.94-2.06-.94 2.06-2.06.94zm-11 1L8.5 8.5l.94-2.06 2.06-.94-2.06-.94L8.5 2.5l-.94 2.06-2.06.94zm10 10l.94 2.06.94-2.06 2.06-.94-2.06-.94-.94-2.06-.94 2.06-2.06.94z\"/><path d=\"M17.41 7.96l-1.37-1.37c-.4-.4-.92-.59-1.43-.59-.52 0-1.04.2-1.43.59L10.3 9.45l-7.72 7.72c-.78.78-.78 2.05 0 2.83L4 21.41c.39.39.9.59 1.41.59.51 0 1.02-.2 1.41-.59l7.78-7.78 2.81-2.81c.8-.78.8-2.07 0-2.86zM5.41 20L4 18.59l7.72-7.72 1.47 1.35L5.41 20z\"/>\n",
              "  </svg>\n",
              "      </button>\n",
              "      \n",
              "  <style>\n",
              "    .colab-df-container {\n",
              "      display:flex;\n",
              "      flex-wrap:wrap;\n",
              "      gap: 12px;\n",
              "    }\n",
              "\n",
              "    .colab-df-convert {\n",
              "      background-color: #E8F0FE;\n",
              "      border: none;\n",
              "      border-radius: 50%;\n",
              "      cursor: pointer;\n",
              "      display: none;\n",
              "      fill: #1967D2;\n",
              "      height: 32px;\n",
              "      padding: 0 0 0 0;\n",
              "      width: 32px;\n",
              "    }\n",
              "\n",
              "    .colab-df-convert:hover {\n",
              "      background-color: #E2EBFA;\n",
              "      box-shadow: 0px 1px 2px rgba(60, 64, 67, 0.3), 0px 1px 3px 1px rgba(60, 64, 67, 0.15);\n",
              "      fill: #174EA6;\n",
              "    }\n",
              "\n",
              "    [theme=dark] .colab-df-convert {\n",
              "      background-color: #3B4455;\n",
              "      fill: #D2E3FC;\n",
              "    }\n",
              "\n",
              "    [theme=dark] .colab-df-convert:hover {\n",
              "      background-color: #434B5C;\n",
              "      box-shadow: 0px 1px 3px 1px rgba(0, 0, 0, 0.15);\n",
              "      filter: drop-shadow(0px 1px 2px rgba(0, 0, 0, 0.3));\n",
              "      fill: #FFFFFF;\n",
              "    }\n",
              "  </style>\n",
              "\n",
              "      <script>\n",
              "        const buttonEl =\n",
              "          document.querySelector('#df-f0c65f52-9b8d-44c9-bd1a-bd4c8cc5e841 button.colab-df-convert');\n",
              "        buttonEl.style.display =\n",
              "          google.colab.kernel.accessAllowed ? 'block' : 'none';\n",
              "\n",
              "        async function convertToInteractive(key) {\n",
              "          const element = document.querySelector('#df-f0c65f52-9b8d-44c9-bd1a-bd4c8cc5e841');\n",
              "          const dataTable =\n",
              "            await google.colab.kernel.invokeFunction('convertToInteractive',\n",
              "                                                     [key], {});\n",
              "          if (!dataTable) return;\n",
              "\n",
              "          const docLinkHtml = 'Like what you see? Visit the ' +\n",
              "            '<a target=\"_blank\" href=https://colab.research.google.com/notebooks/data_table.ipynb>data table notebook</a>'\n",
              "            + ' to learn more about interactive tables.';\n",
              "          element.innerHTML = '';\n",
              "          dataTable['output_type'] = 'display_data';\n",
              "          await google.colab.output.renderOutput(dataTable, element);\n",
              "          const docLink = document.createElement('div');\n",
              "          docLink.innerHTML = docLinkHtml;\n",
              "          element.appendChild(docLink);\n",
              "        }\n",
              "      </script>\n",
              "    </div>\n",
              "  </div>\n",
              "  "
            ],
            "text/plain": [
              "   age     sex  chest pain type  resting bp s  cholesterol  \\\n",
              "0   40    male                2           140          289   \n",
              "1   49  female                3           160          180   \n",
              "2   37    male                2           130          283   \n",
              "3   48  female                4           138          214   \n",
              "4   54    male                3           150          195   \n",
              "\n",
              "   fasting blood sugar  resting ecg  max heart rate exercise angina  oldpeak  \\\n",
              "0                    0            0             172              no        0   \n",
              "1                    0            0             156              no       10   \n",
              "2                    0            1              98              no        0   \n",
              "3                    0            0             108             yes       15   \n",
              "4                    0            0             122              no        0   \n",
              "\n",
              "   ST slope          class  \n",
              "0         1         Normal  \n",
              "1         2  heart disease  \n",
              "2         1         Normal  \n",
              "3         2  heart disease  \n",
              "4         1         Normal  "
            ]
          },
          "execution_count": 7,
          "metadata": {},
          "output_type": "execute_result"
        }
      ],
      "source": [
        "dfNumeros = df[['age', 'chest pain type', 'resting bp s', 'cholesterol', 'fasting blood sugar', 'resting ecg', 'max heart rate', 'oldpeak', 'ST slope', 'class']]\n",
        "dfNumeros['class'] = labelencoder.fit_transform(df['class'])\n",
        "z = np.abs(stats.zscore(dfNumeros))\n",
        "\n",
        "df = df[(z < 3).all(axis=1)]\n",
        "\n",
        "df.shape\n",
        "df.head()"
      ]
    },
    {
      "cell_type": "markdown",
      "metadata": {
        "id": "1qklICL9CV_y"
      },
      "source": [
        "**Pergunta:** Foram localizados outliers? Se existe, como os dados foram tratados (removidos ou mantidos)? "
      ]
    },
    {
      "cell_type": "markdown",
      "metadata": {
        "id": "a58LmU9wCV_y"
      },
      "source": [
        "**Resposta:**\n",
        "Todos os outiliers foram removidos."
      ]
    },
    {
      "cell_type": "markdown",
      "metadata": {
        "id": "2rn39Nw9CV_y"
      },
      "source": [
        "### Tratamento de dados Paramétricos\n",
        "\n",
        "Faça o tratamento dos atributos categoricos, se existir. Manipule de forma conveniente para ser interpretado como um dado numérico."
      ]
    },
    {
      "cell_type": "code",
      "execution_count": 8,
      "metadata": {
        "colab": {
          "base_uri": "https://localhost:8080/",
          "height": 519
        },
        "collapsed": true,
        "id": "zEJWnbAmCV_y",
        "outputId": "c5300cb2-7ec8-4591-e602-dcb0a8e4a5f0"
      },
      "outputs": [
        {
          "name": "stderr",
          "output_type": "stream",
          "text": [
            "/usr/local/lib/python3.7/dist-packages/ipykernel_launcher.py:1: SettingWithCopyWarning: \n",
            "A value is trying to be set on a copy of a slice from a DataFrame.\n",
            "Try using .loc[row_indexer,col_indexer] = value instead\n",
            "\n",
            "See the caveats in the documentation: https://pandas.pydata.org/pandas-docs/stable/user_guide/indexing.html#returning-a-view-versus-a-copy\n",
            "  \"\"\"Entry point for launching an IPython kernel.\n",
            "/usr/local/lib/python3.7/dist-packages/ipykernel_launcher.py:2: SettingWithCopyWarning: \n",
            "A value is trying to be set on a copy of a slice from a DataFrame.\n",
            "Try using .loc[row_indexer,col_indexer] = value instead\n",
            "\n",
            "See the caveats in the documentation: https://pandas.pydata.org/pandas-docs/stable/user_guide/indexing.html#returning-a-view-versus-a-copy\n",
            "  \n",
            "/usr/local/lib/python3.7/dist-packages/ipykernel_launcher.py:3: SettingWithCopyWarning: \n",
            "A value is trying to be set on a copy of a slice from a DataFrame.\n",
            "Try using .loc[row_indexer,col_indexer] = value instead\n",
            "\n",
            "See the caveats in the documentation: https://pandas.pydata.org/pandas-docs/stable/user_guide/indexing.html#returning-a-view-versus-a-copy\n",
            "  This is separate from the ipykernel package so we can avoid doing imports until\n"
          ]
        },
        {
          "data": {
            "text/html": [
              "\n",
              "  <div id=\"df-10d51819-3ae2-40ac-ae99-266ffa66c2a4\">\n",
              "    <div class=\"colab-df-container\">\n",
              "      <div>\n",
              "<style scoped>\n",
              "    .dataframe tbody tr th:only-of-type {\n",
              "        vertical-align: middle;\n",
              "    }\n",
              "\n",
              "    .dataframe tbody tr th {\n",
              "        vertical-align: top;\n",
              "    }\n",
              "\n",
              "    .dataframe thead th {\n",
              "        text-align: right;\n",
              "    }\n",
              "</style>\n",
              "<table border=\"1\" class=\"dataframe\">\n",
              "  <thead>\n",
              "    <tr style=\"text-align: right;\">\n",
              "      <th></th>\n",
              "      <th>age</th>\n",
              "      <th>sex</th>\n",
              "      <th>chest pain type</th>\n",
              "      <th>resting bp s</th>\n",
              "      <th>cholesterol</th>\n",
              "      <th>fasting blood sugar</th>\n",
              "      <th>resting ecg</th>\n",
              "      <th>max heart rate</th>\n",
              "      <th>exercise angina</th>\n",
              "      <th>oldpeak</th>\n",
              "      <th>ST slope</th>\n",
              "      <th>class</th>\n",
              "    </tr>\n",
              "  </thead>\n",
              "  <tbody>\n",
              "    <tr>\n",
              "      <th>0</th>\n",
              "      <td>40</td>\n",
              "      <td>1</td>\n",
              "      <td>2</td>\n",
              "      <td>140</td>\n",
              "      <td>289</td>\n",
              "      <td>0</td>\n",
              "      <td>0</td>\n",
              "      <td>172</td>\n",
              "      <td>0</td>\n",
              "      <td>0</td>\n",
              "      <td>1</td>\n",
              "      <td>0</td>\n",
              "    </tr>\n",
              "    <tr>\n",
              "      <th>1</th>\n",
              "      <td>49</td>\n",
              "      <td>0</td>\n",
              "      <td>3</td>\n",
              "      <td>160</td>\n",
              "      <td>180</td>\n",
              "      <td>0</td>\n",
              "      <td>0</td>\n",
              "      <td>156</td>\n",
              "      <td>0</td>\n",
              "      <td>10</td>\n",
              "      <td>2</td>\n",
              "      <td>1</td>\n",
              "    </tr>\n",
              "    <tr>\n",
              "      <th>2</th>\n",
              "      <td>37</td>\n",
              "      <td>1</td>\n",
              "      <td>2</td>\n",
              "      <td>130</td>\n",
              "      <td>283</td>\n",
              "      <td>0</td>\n",
              "      <td>1</td>\n",
              "      <td>98</td>\n",
              "      <td>0</td>\n",
              "      <td>0</td>\n",
              "      <td>1</td>\n",
              "      <td>0</td>\n",
              "    </tr>\n",
              "    <tr>\n",
              "      <th>3</th>\n",
              "      <td>48</td>\n",
              "      <td>0</td>\n",
              "      <td>4</td>\n",
              "      <td>138</td>\n",
              "      <td>214</td>\n",
              "      <td>0</td>\n",
              "      <td>0</td>\n",
              "      <td>108</td>\n",
              "      <td>1</td>\n",
              "      <td>15</td>\n",
              "      <td>2</td>\n",
              "      <td>1</td>\n",
              "    </tr>\n",
              "    <tr>\n",
              "      <th>4</th>\n",
              "      <td>54</td>\n",
              "      <td>1</td>\n",
              "      <td>3</td>\n",
              "      <td>150</td>\n",
              "      <td>195</td>\n",
              "      <td>0</td>\n",
              "      <td>0</td>\n",
              "      <td>122</td>\n",
              "      <td>0</td>\n",
              "      <td>0</td>\n",
              "      <td>1</td>\n",
              "      <td>0</td>\n",
              "    </tr>\n",
              "  </tbody>\n",
              "</table>\n",
              "</div>\n",
              "      <button class=\"colab-df-convert\" onclick=\"convertToInteractive('df-10d51819-3ae2-40ac-ae99-266ffa66c2a4')\"\n",
              "              title=\"Convert this dataframe to an interactive table.\"\n",
              "              style=\"display:none;\">\n",
              "        \n",
              "  <svg xmlns=\"http://www.w3.org/2000/svg\" height=\"24px\"viewBox=\"0 0 24 24\"\n",
              "       width=\"24px\">\n",
              "    <path d=\"M0 0h24v24H0V0z\" fill=\"none\"/>\n",
              "    <path d=\"M18.56 5.44l.94 2.06.94-2.06 2.06-.94-2.06-.94-.94-2.06-.94 2.06-2.06.94zm-11 1L8.5 8.5l.94-2.06 2.06-.94-2.06-.94L8.5 2.5l-.94 2.06-2.06.94zm10 10l.94 2.06.94-2.06 2.06-.94-2.06-.94-.94-2.06-.94 2.06-2.06.94z\"/><path d=\"M17.41 7.96l-1.37-1.37c-.4-.4-.92-.59-1.43-.59-.52 0-1.04.2-1.43.59L10.3 9.45l-7.72 7.72c-.78.78-.78 2.05 0 2.83L4 21.41c.39.39.9.59 1.41.59.51 0 1.02-.2 1.41-.59l7.78-7.78 2.81-2.81c.8-.78.8-2.07 0-2.86zM5.41 20L4 18.59l7.72-7.72 1.47 1.35L5.41 20z\"/>\n",
              "  </svg>\n",
              "      </button>\n",
              "      \n",
              "  <style>\n",
              "    .colab-df-container {\n",
              "      display:flex;\n",
              "      flex-wrap:wrap;\n",
              "      gap: 12px;\n",
              "    }\n",
              "\n",
              "    .colab-df-convert {\n",
              "      background-color: #E8F0FE;\n",
              "      border: none;\n",
              "      border-radius: 50%;\n",
              "      cursor: pointer;\n",
              "      display: none;\n",
              "      fill: #1967D2;\n",
              "      height: 32px;\n",
              "      padding: 0 0 0 0;\n",
              "      width: 32px;\n",
              "    }\n",
              "\n",
              "    .colab-df-convert:hover {\n",
              "      background-color: #E2EBFA;\n",
              "      box-shadow: 0px 1px 2px rgba(60, 64, 67, 0.3), 0px 1px 3px 1px rgba(60, 64, 67, 0.15);\n",
              "      fill: #174EA6;\n",
              "    }\n",
              "\n",
              "    [theme=dark] .colab-df-convert {\n",
              "      background-color: #3B4455;\n",
              "      fill: #D2E3FC;\n",
              "    }\n",
              "\n",
              "    [theme=dark] .colab-df-convert:hover {\n",
              "      background-color: #434B5C;\n",
              "      box-shadow: 0px 1px 3px 1px rgba(0, 0, 0, 0.15);\n",
              "      filter: drop-shadow(0px 1px 2px rgba(0, 0, 0, 0.3));\n",
              "      fill: #FFFFFF;\n",
              "    }\n",
              "  </style>\n",
              "\n",
              "      <script>\n",
              "        const buttonEl =\n",
              "          document.querySelector('#df-10d51819-3ae2-40ac-ae99-266ffa66c2a4 button.colab-df-convert');\n",
              "        buttonEl.style.display =\n",
              "          google.colab.kernel.accessAllowed ? 'block' : 'none';\n",
              "\n",
              "        async function convertToInteractive(key) {\n",
              "          const element = document.querySelector('#df-10d51819-3ae2-40ac-ae99-266ffa66c2a4');\n",
              "          const dataTable =\n",
              "            await google.colab.kernel.invokeFunction('convertToInteractive',\n",
              "                                                     [key], {});\n",
              "          if (!dataTable) return;\n",
              "\n",
              "          const docLinkHtml = 'Like what you see? Visit the ' +\n",
              "            '<a target=\"_blank\" href=https://colab.research.google.com/notebooks/data_table.ipynb>data table notebook</a>'\n",
              "            + ' to learn more about interactive tables.';\n",
              "          element.innerHTML = '';\n",
              "          dataTable['output_type'] = 'display_data';\n",
              "          await google.colab.output.renderOutput(dataTable, element);\n",
              "          const docLink = document.createElement('div');\n",
              "          docLink.innerHTML = docLinkHtml;\n",
              "          element.appendChild(docLink);\n",
              "        }\n",
              "      </script>\n",
              "    </div>\n",
              "  </div>\n",
              "  "
            ],
            "text/plain": [
              "   age  sex  chest pain type  resting bp s  cholesterol  fasting blood sugar  \\\n",
              "0   40    1                2           140          289                    0   \n",
              "1   49    0                3           160          180                    0   \n",
              "2   37    1                2           130          283                    0   \n",
              "3   48    0                4           138          214                    0   \n",
              "4   54    1                3           150          195                    0   \n",
              "\n",
              "   resting ecg  max heart rate  exercise angina  oldpeak  ST slope  class  \n",
              "0            0             172                0        0         1      0  \n",
              "1            0             156                0       10         2      1  \n",
              "2            1              98                0        0         1      0  \n",
              "3            0             108                1       15         2      1  \n",
              "4            0             122                0        0         1      0  "
            ]
          },
          "execution_count": 8,
          "metadata": {},
          "output_type": "execute_result"
        }
      ],
      "source": [
        "df['class'] = labelencoder.fit_transform(df['class'])\n",
        "df['sex'] = labelencoder.fit_transform(df['sex'])\n",
        "df['exercise angina'] = labelencoder.fit_transform(df['exercise angina'])\n",
        "\n",
        "df.head()"
      ]
    },
    {
      "cell_type": "markdown",
      "metadata": {
        "id": "IMSrXjJhCV_z"
      },
      "source": [
        "**Pergunta:** Quais são os atributos categoricos? Qual foi a técnica de preprocessamento utilizada? "
      ]
    },
    {
      "cell_type": "markdown",
      "metadata": {
        "id": "VmDj8OiWCV_z"
      },
      "source": [
        "**Resposta:**\n",
        "\"class\", \"sex\", \"exercise angina\". Label Encoderer."
      ]
    },
    {
      "cell_type": "markdown",
      "metadata": {
        "id": "dknGI5Q1CV_z"
      },
      "source": [
        "### Normalização dos dados\n",
        "\n",
        "Faça a manipulação adequada para normalizar os dados, se necessário."
      ]
    },
    {
      "cell_type": "code",
      "execution_count": 9,
      "metadata": {
        "colab": {
          "base_uri": "https://localhost:8080/",
          "height": 310
        },
        "collapsed": true,
        "id": "Q8_pzJoZCV_z",
        "outputId": "b608ff20-faf0-4976-a965-18827651d440"
      },
      "outputs": [
        {
          "name": "stderr",
          "output_type": "stream",
          "text": [
            "/usr/local/lib/python3.7/dist-packages/pandas/core/frame.py:3678: SettingWithCopyWarning: \n",
            "A value is trying to be set on a copy of a slice from a DataFrame.\n",
            "Try using .loc[row_indexer,col_indexer] = value instead\n",
            "\n",
            "See the caveats in the documentation: https://pandas.pydata.org/pandas-docs/stable/user_guide/indexing.html#returning-a-view-versus-a-copy\n",
            "  self[col] = igetitem(value, i)\n"
          ]
        },
        {
          "data": {
            "text/html": [
              "\n",
              "  <div id=\"df-5e533c40-609d-4182-95c1-c225b056cad5\">\n",
              "    <div class=\"colab-df-container\">\n",
              "      <div>\n",
              "<style scoped>\n",
              "    .dataframe tbody tr th:only-of-type {\n",
              "        vertical-align: middle;\n",
              "    }\n",
              "\n",
              "    .dataframe tbody tr th {\n",
              "        vertical-align: top;\n",
              "    }\n",
              "\n",
              "    .dataframe thead th {\n",
              "        text-align: right;\n",
              "    }\n",
              "</style>\n",
              "<table border=\"1\" class=\"dataframe\">\n",
              "  <thead>\n",
              "    <tr style=\"text-align: right;\">\n",
              "      <th></th>\n",
              "      <th>age</th>\n",
              "      <th>sex</th>\n",
              "      <th>chest pain type</th>\n",
              "      <th>resting bp s</th>\n",
              "      <th>cholesterol</th>\n",
              "      <th>fasting blood sugar</th>\n",
              "      <th>resting ecg</th>\n",
              "      <th>max heart rate</th>\n",
              "      <th>exercise angina</th>\n",
              "      <th>oldpeak</th>\n",
              "      <th>ST slope</th>\n",
              "      <th>class</th>\n",
              "    </tr>\n",
              "  </thead>\n",
              "  <tbody>\n",
              "    <tr>\n",
              "      <th>0</th>\n",
              "      <td>40</td>\n",
              "      <td>1</td>\n",
              "      <td>2</td>\n",
              "      <td>0.571429</td>\n",
              "      <td>0.588595</td>\n",
              "      <td>0</td>\n",
              "      <td>0</td>\n",
              "      <td>0.788732</td>\n",
              "      <td>0</td>\n",
              "      <td>0.333333</td>\n",
              "      <td>1</td>\n",
              "      <td>0</td>\n",
              "    </tr>\n",
              "    <tr>\n",
              "      <th>1</th>\n",
              "      <td>49</td>\n",
              "      <td>0</td>\n",
              "      <td>3</td>\n",
              "      <td>0.761905</td>\n",
              "      <td>0.366599</td>\n",
              "      <td>0</td>\n",
              "      <td>0</td>\n",
              "      <td>0.676056</td>\n",
              "      <td>0</td>\n",
              "      <td>0.500000</td>\n",
              "      <td>2</td>\n",
              "      <td>1</td>\n",
              "    </tr>\n",
              "    <tr>\n",
              "      <th>2</th>\n",
              "      <td>37</td>\n",
              "      <td>1</td>\n",
              "      <td>2</td>\n",
              "      <td>0.476190</td>\n",
              "      <td>0.576375</td>\n",
              "      <td>0</td>\n",
              "      <td>1</td>\n",
              "      <td>0.267606</td>\n",
              "      <td>0</td>\n",
              "      <td>0.333333</td>\n",
              "      <td>1</td>\n",
              "      <td>0</td>\n",
              "    </tr>\n",
              "    <tr>\n",
              "      <th>3</th>\n",
              "      <td>48</td>\n",
              "      <td>0</td>\n",
              "      <td>4</td>\n",
              "      <td>0.552381</td>\n",
              "      <td>0.435845</td>\n",
              "      <td>0</td>\n",
              "      <td>0</td>\n",
              "      <td>0.338028</td>\n",
              "      <td>1</td>\n",
              "      <td>0.583333</td>\n",
              "      <td>2</td>\n",
              "      <td>1</td>\n",
              "    </tr>\n",
              "    <tr>\n",
              "      <th>4</th>\n",
              "      <td>54</td>\n",
              "      <td>1</td>\n",
              "      <td>3</td>\n",
              "      <td>0.666667</td>\n",
              "      <td>0.397149</td>\n",
              "      <td>0</td>\n",
              "      <td>0</td>\n",
              "      <td>0.436620</td>\n",
              "      <td>0</td>\n",
              "      <td>0.333333</td>\n",
              "      <td>1</td>\n",
              "      <td>0</td>\n",
              "    </tr>\n",
              "  </tbody>\n",
              "</table>\n",
              "</div>\n",
              "      <button class=\"colab-df-convert\" onclick=\"convertToInteractive('df-5e533c40-609d-4182-95c1-c225b056cad5')\"\n",
              "              title=\"Convert this dataframe to an interactive table.\"\n",
              "              style=\"display:none;\">\n",
              "        \n",
              "  <svg xmlns=\"http://www.w3.org/2000/svg\" height=\"24px\"viewBox=\"0 0 24 24\"\n",
              "       width=\"24px\">\n",
              "    <path d=\"M0 0h24v24H0V0z\" fill=\"none\"/>\n",
              "    <path d=\"M18.56 5.44l.94 2.06.94-2.06 2.06-.94-2.06-.94-.94-2.06-.94 2.06-2.06.94zm-11 1L8.5 8.5l.94-2.06 2.06-.94-2.06-.94L8.5 2.5l-.94 2.06-2.06.94zm10 10l.94 2.06.94-2.06 2.06-.94-2.06-.94-.94-2.06-.94 2.06-2.06.94z\"/><path d=\"M17.41 7.96l-1.37-1.37c-.4-.4-.92-.59-1.43-.59-.52 0-1.04.2-1.43.59L10.3 9.45l-7.72 7.72c-.78.78-.78 2.05 0 2.83L4 21.41c.39.39.9.59 1.41.59.51 0 1.02-.2 1.41-.59l7.78-7.78 2.81-2.81c.8-.78.8-2.07 0-2.86zM5.41 20L4 18.59l7.72-7.72 1.47 1.35L5.41 20z\"/>\n",
              "  </svg>\n",
              "      </button>\n",
              "      \n",
              "  <style>\n",
              "    .colab-df-container {\n",
              "      display:flex;\n",
              "      flex-wrap:wrap;\n",
              "      gap: 12px;\n",
              "    }\n",
              "\n",
              "    .colab-df-convert {\n",
              "      background-color: #E8F0FE;\n",
              "      border: none;\n",
              "      border-radius: 50%;\n",
              "      cursor: pointer;\n",
              "      display: none;\n",
              "      fill: #1967D2;\n",
              "      height: 32px;\n",
              "      padding: 0 0 0 0;\n",
              "      width: 32px;\n",
              "    }\n",
              "\n",
              "    .colab-df-convert:hover {\n",
              "      background-color: #E2EBFA;\n",
              "      box-shadow: 0px 1px 2px rgba(60, 64, 67, 0.3), 0px 1px 3px 1px rgba(60, 64, 67, 0.15);\n",
              "      fill: #174EA6;\n",
              "    }\n",
              "\n",
              "    [theme=dark] .colab-df-convert {\n",
              "      background-color: #3B4455;\n",
              "      fill: #D2E3FC;\n",
              "    }\n",
              "\n",
              "    [theme=dark] .colab-df-convert:hover {\n",
              "      background-color: #434B5C;\n",
              "      box-shadow: 0px 1px 3px 1px rgba(0, 0, 0, 0.15);\n",
              "      filter: drop-shadow(0px 1px 2px rgba(0, 0, 0, 0.3));\n",
              "      fill: #FFFFFF;\n",
              "    }\n",
              "  </style>\n",
              "\n",
              "      <script>\n",
              "        const buttonEl =\n",
              "          document.querySelector('#df-5e533c40-609d-4182-95c1-c225b056cad5 button.colab-df-convert');\n",
              "        buttonEl.style.display =\n",
              "          google.colab.kernel.accessAllowed ? 'block' : 'none';\n",
              "\n",
              "        async function convertToInteractive(key) {\n",
              "          const element = document.querySelector('#df-5e533c40-609d-4182-95c1-c225b056cad5');\n",
              "          const dataTable =\n",
              "            await google.colab.kernel.invokeFunction('convertToInteractive',\n",
              "                                                     [key], {});\n",
              "          if (!dataTable) return;\n",
              "\n",
              "          const docLinkHtml = 'Like what you see? Visit the ' +\n",
              "            '<a target=\"_blank\" href=https://colab.research.google.com/notebooks/data_table.ipynb>data table notebook</a>'\n",
              "            + ' to learn more about interactive tables.';\n",
              "          element.innerHTML = '';\n",
              "          dataTable['output_type'] = 'display_data';\n",
              "          await google.colab.output.renderOutput(dataTable, element);\n",
              "          const docLink = document.createElement('div');\n",
              "          docLink.innerHTML = docLinkHtml;\n",
              "          element.appendChild(docLink);\n",
              "        }\n",
              "      </script>\n",
              "    </div>\n",
              "  </div>\n",
              "  "
            ],
            "text/plain": [
              "   age  sex  chest pain type  resting bp s  cholesterol  fasting blood sugar  \\\n",
              "0   40    1                2      0.571429     0.588595                    0   \n",
              "1   49    0                3      0.761905     0.366599                    0   \n",
              "2   37    1                2      0.476190     0.576375                    0   \n",
              "3   48    0                4      0.552381     0.435845                    0   \n",
              "4   54    1                3      0.666667     0.397149                    0   \n",
              "\n",
              "   resting ecg  max heart rate  exercise angina   oldpeak  ST slope  class  \n",
              "0            0        0.788732                0  0.333333         1      0  \n",
              "1            0        0.676056                0  0.500000         2      1  \n",
              "2            1        0.267606                0  0.333333         1      0  \n",
              "3            0        0.338028                1  0.583333         2      1  \n",
              "4            0        0.436620                0  0.333333         1      0  "
            ]
          },
          "execution_count": 9,
          "metadata": {},
          "output_type": "execute_result"
        }
      ],
      "source": [
        "cols = ['resting bp s', 'cholesterol', 'max heart rate', 'oldpeak']\n",
        "\n",
        "scaler = MinMaxScaler(feature_range=(0,1))\n",
        "\n",
        "scaled_data = scaler.fit_transform(df[cols])\n",
        "\n",
        "df[cols] = scaled_data\n",
        "\n",
        "df.head()"
      ]
    },
    {
      "cell_type": "markdown",
      "metadata": {
        "id": "QyV9OexFCV_z"
      },
      "source": [
        "**Pergunta:** Os dados foram normalizados? Qual foi a técnica de preprocessamento utilizada? "
      ]
    },
    {
      "cell_type": "markdown",
      "metadata": {
        "id": "gv4u35FUCV_z"
      },
      "source": [
        "**Resposta:**\n",
        "Os dados foram normalizados pelo processo de MinMaxScaler."
      ]
    },
    {
      "cell_type": "markdown",
      "metadata": {
        "id": "Zp_13iSpCV_z"
      },
      "source": [
        "## 3. Desenvolvimento do Modelo"
      ]
    },
    {
      "cell_type": "markdown",
      "metadata": {
        "id": "TDbc-Z8jCV_0"
      },
      "source": [
        "**Pergunta:** O conjunto de dados indica a aplicação de qual modelo de aprendizagem de maquina? "
      ]
    },
    {
      "cell_type": "markdown",
      "metadata": {
        "id": "mKQJEsfYCV_0"
      },
      "source": [
        "**Resposta:**\n",
        "\n",
        "    [ ] Aprendizado por reforço\n",
        "    [X] Aprendizado supervisionado\n",
        "    [ ] Aprendizado não supervisionado"
      ]
    },
    {
      "cell_type": "markdown",
      "metadata": {
        "id": "9oTga3VOCV_0"
      },
      "source": [
        "**Pergunta:** Qual a técnica sugerida para este projeto?"
      ]
    },
    {
      "cell_type": "markdown",
      "metadata": {
        "id": "L7PiMPDiCV_0"
      },
      "source": [
        "**Resposta:**\n",
        "\n",
        "    [ ] Regressão\n",
        "    [X] Classificação\n",
        "    [ ] Clusterização"
      ]
    },
    {
      "cell_type": "markdown",
      "metadata": {
        "id": "wOEhxiR5CV_0"
      },
      "source": [
        "**Pergunta:** Escolha 3 modelos de algoritmos de ML para ser testado."
      ]
    },
    {
      "cell_type": "markdown",
      "metadata": {
        "id": "VQXEro9XCV_0"
      },
      "source": [
        "**Resposta:**\n",
        "\n",
        "1. algoritimo 1 ... de classificação\n",
        "2. algoritimo 2 ... de progressão linear\n",
        "3. algoritimo 3 ... Perceptron\n"
      ]
    },
    {
      "cell_type": "markdown",
      "metadata": {
        "id": "vF-WE_8PCV_0"
      },
      "source": [
        "**Pergunta:** Explique como cada algoritmo funciona.\n",
        "\n"
      ]
    },
    {
      "cell_type": "markdown",
      "metadata": {
        "id": "8umbHwLgCV_0"
      },
      "source": [
        "**Resposta:**\n",
        "\n",
        "1. algoritimo 1 ... determina grupos baseados suas características e determina a qual grupo cada um pertence\n",
        "2. algoritimo 2 ... cria uma fórmula para previsão de valores\n",
        "3. algoritimo 3 ... cria neurônios artificiais que criam regras baseadas nas semelhanças de seus dados"
      ]
    },
    {
      "cell_type": "markdown",
      "metadata": {
        "id": "O0c6ljonCV_1"
      },
      "source": [
        "### Dataset dos dados tratados \n",
        "\n",
        "Crie um subset dos dados apenas com os atributos que serão utilizados e exiba as primeiras linhas."
      ]
    },
    {
      "cell_type": "code",
      "execution_count": 10,
      "metadata": {
        "colab": {
          "base_uri": "https://localhost:8080/",
          "height": 206
        },
        "collapsed": true,
        "id": "Oa9ralq_CV_1",
        "outputId": "6e3526c5-c8bd-46a7-e43e-13aec6123808"
      },
      "outputs": [
        {
          "data": {
            "text/html": [
              "\n",
              "  <div id=\"df-651ab081-0dbb-439f-b37c-f0670d050926\">\n",
              "    <div class=\"colab-df-container\">\n",
              "      <div>\n",
              "<style scoped>\n",
              "    .dataframe tbody tr th:only-of-type {\n",
              "        vertical-align: middle;\n",
              "    }\n",
              "\n",
              "    .dataframe tbody tr th {\n",
              "        vertical-align: top;\n",
              "    }\n",
              "\n",
              "    .dataframe thead th {\n",
              "        text-align: right;\n",
              "    }\n",
              "</style>\n",
              "<table border=\"1\" class=\"dataframe\">\n",
              "  <thead>\n",
              "    <tr style=\"text-align: right;\">\n",
              "      <th></th>\n",
              "      <th>age</th>\n",
              "      <th>chest pain type</th>\n",
              "      <th>resting bp s</th>\n",
              "      <th>resting ecg</th>\n",
              "      <th>max heart rate</th>\n",
              "      <th>oldpeak</th>\n",
              "      <th>ST slope</th>\n",
              "      <th>class</th>\n",
              "    </tr>\n",
              "  </thead>\n",
              "  <tbody>\n",
              "    <tr>\n",
              "      <th>0</th>\n",
              "      <td>40</td>\n",
              "      <td>2</td>\n",
              "      <td>0.571429</td>\n",
              "      <td>0</td>\n",
              "      <td>0.788732</td>\n",
              "      <td>0.333333</td>\n",
              "      <td>1</td>\n",
              "      <td>0</td>\n",
              "    </tr>\n",
              "    <tr>\n",
              "      <th>1</th>\n",
              "      <td>49</td>\n",
              "      <td>3</td>\n",
              "      <td>0.761905</td>\n",
              "      <td>0</td>\n",
              "      <td>0.676056</td>\n",
              "      <td>0.500000</td>\n",
              "      <td>2</td>\n",
              "      <td>1</td>\n",
              "    </tr>\n",
              "    <tr>\n",
              "      <th>2</th>\n",
              "      <td>37</td>\n",
              "      <td>2</td>\n",
              "      <td>0.476190</td>\n",
              "      <td>1</td>\n",
              "      <td>0.267606</td>\n",
              "      <td>0.333333</td>\n",
              "      <td>1</td>\n",
              "      <td>0</td>\n",
              "    </tr>\n",
              "    <tr>\n",
              "      <th>3</th>\n",
              "      <td>48</td>\n",
              "      <td>4</td>\n",
              "      <td>0.552381</td>\n",
              "      <td>0</td>\n",
              "      <td>0.338028</td>\n",
              "      <td>0.583333</td>\n",
              "      <td>2</td>\n",
              "      <td>1</td>\n",
              "    </tr>\n",
              "    <tr>\n",
              "      <th>4</th>\n",
              "      <td>54</td>\n",
              "      <td>3</td>\n",
              "      <td>0.666667</td>\n",
              "      <td>0</td>\n",
              "      <td>0.436620</td>\n",
              "      <td>0.333333</td>\n",
              "      <td>1</td>\n",
              "      <td>0</td>\n",
              "    </tr>\n",
              "  </tbody>\n",
              "</table>\n",
              "</div>\n",
              "      <button class=\"colab-df-convert\" onclick=\"convertToInteractive('df-651ab081-0dbb-439f-b37c-f0670d050926')\"\n",
              "              title=\"Convert this dataframe to an interactive table.\"\n",
              "              style=\"display:none;\">\n",
              "        \n",
              "  <svg xmlns=\"http://www.w3.org/2000/svg\" height=\"24px\"viewBox=\"0 0 24 24\"\n",
              "       width=\"24px\">\n",
              "    <path d=\"M0 0h24v24H0V0z\" fill=\"none\"/>\n",
              "    <path d=\"M18.56 5.44l.94 2.06.94-2.06 2.06-.94-2.06-.94-.94-2.06-.94 2.06-2.06.94zm-11 1L8.5 8.5l.94-2.06 2.06-.94-2.06-.94L8.5 2.5l-.94 2.06-2.06.94zm10 10l.94 2.06.94-2.06 2.06-.94-2.06-.94-.94-2.06-.94 2.06-2.06.94z\"/><path d=\"M17.41 7.96l-1.37-1.37c-.4-.4-.92-.59-1.43-.59-.52 0-1.04.2-1.43.59L10.3 9.45l-7.72 7.72c-.78.78-.78 2.05 0 2.83L4 21.41c.39.39.9.59 1.41.59.51 0 1.02-.2 1.41-.59l7.78-7.78 2.81-2.81c.8-.78.8-2.07 0-2.86zM5.41 20L4 18.59l7.72-7.72 1.47 1.35L5.41 20z\"/>\n",
              "  </svg>\n",
              "      </button>\n",
              "      \n",
              "  <style>\n",
              "    .colab-df-container {\n",
              "      display:flex;\n",
              "      flex-wrap:wrap;\n",
              "      gap: 12px;\n",
              "    }\n",
              "\n",
              "    .colab-df-convert {\n",
              "      background-color: #E8F0FE;\n",
              "      border: none;\n",
              "      border-radius: 50%;\n",
              "      cursor: pointer;\n",
              "      display: none;\n",
              "      fill: #1967D2;\n",
              "      height: 32px;\n",
              "      padding: 0 0 0 0;\n",
              "      width: 32px;\n",
              "    }\n",
              "\n",
              "    .colab-df-convert:hover {\n",
              "      background-color: #E2EBFA;\n",
              "      box-shadow: 0px 1px 2px rgba(60, 64, 67, 0.3), 0px 1px 3px 1px rgba(60, 64, 67, 0.15);\n",
              "      fill: #174EA6;\n",
              "    }\n",
              "\n",
              "    [theme=dark] .colab-df-convert {\n",
              "      background-color: #3B4455;\n",
              "      fill: #D2E3FC;\n",
              "    }\n",
              "\n",
              "    [theme=dark] .colab-df-convert:hover {\n",
              "      background-color: #434B5C;\n",
              "      box-shadow: 0px 1px 3px 1px rgba(0, 0, 0, 0.15);\n",
              "      filter: drop-shadow(0px 1px 2px rgba(0, 0, 0, 0.3));\n",
              "      fill: #FFFFFF;\n",
              "    }\n",
              "  </style>\n",
              "\n",
              "      <script>\n",
              "        const buttonEl =\n",
              "          document.querySelector('#df-651ab081-0dbb-439f-b37c-f0670d050926 button.colab-df-convert');\n",
              "        buttonEl.style.display =\n",
              "          google.colab.kernel.accessAllowed ? 'block' : 'none';\n",
              "\n",
              "        async function convertToInteractive(key) {\n",
              "          const element = document.querySelector('#df-651ab081-0dbb-439f-b37c-f0670d050926');\n",
              "          const dataTable =\n",
              "            await google.colab.kernel.invokeFunction('convertToInteractive',\n",
              "                                                     [key], {});\n",
              "          if (!dataTable) return;\n",
              "\n",
              "          const docLinkHtml = 'Like what you see? Visit the ' +\n",
              "            '<a target=\"_blank\" href=https://colab.research.google.com/notebooks/data_table.ipynb>data table notebook</a>'\n",
              "            + ' to learn more about interactive tables.';\n",
              "          element.innerHTML = '';\n",
              "          dataTable['output_type'] = 'display_data';\n",
              "          await google.colab.output.renderOutput(dataTable, element);\n",
              "          const docLink = document.createElement('div');\n",
              "          docLink.innerHTML = docLinkHtml;\n",
              "          element.appendChild(docLink);\n",
              "        }\n",
              "      </script>\n",
              "    </div>\n",
              "  </div>\n",
              "  "
            ],
            "text/plain": [
              "   age  chest pain type  resting bp s  resting ecg  max heart rate   oldpeak  \\\n",
              "0   40                2      0.571429            0        0.788732  0.333333   \n",
              "1   49                3      0.761905            0        0.676056  0.500000   \n",
              "2   37                2      0.476190            1        0.267606  0.333333   \n",
              "3   48                4      0.552381            0        0.338028  0.583333   \n",
              "4   54                3      0.666667            0        0.436620  0.333333   \n",
              "\n",
              "   ST slope  class  \n",
              "0         1      0  \n",
              "1         2      1  \n",
              "2         1      0  \n",
              "3         2      1  \n",
              "4         1      0  "
            ]
          },
          "execution_count": 10,
          "metadata": {},
          "output_type": "execute_result"
        }
      ],
      "source": [
        "dfSub = df[['age', 'chest pain type', 'resting bp s', 'resting ecg', 'max heart rate', 'oldpeak', 'ST slope', 'class']]\n",
        "\n",
        "dfSub.head()"
      ]
    },
    {
      "cell_type": "markdown",
      "metadata": {
        "id": "Z3dI-tlNCV_1"
      },
      "source": [
        "### Definição de X e Y\n",
        "\n",
        "Separe os subsets dos atributos em Y e X :\n",
        "\n",
        "- Y = atributo dependente (alvo)\n",
        "- X = Atributo independente (entradas)"
      ]
    },
    {
      "cell_type": "code",
      "execution_count": 11,
      "metadata": {
        "collapsed": true,
        "id": "IX6Jm25uCV_1"
      },
      "outputs": [],
      "source": [
        "X = dfSub[['age', 'chest pain type', 'resting bp s', 'resting ecg', 'max heart rate', 'oldpeak', 'ST slope']]\n",
        "Y = dfSub['class']"
      ]
    },
    {
      "cell_type": "markdown",
      "metadata": {
        "id": "cTpt5MtICV_1"
      },
      "source": [
        "### Divisão em treino e teste.\n",
        "\n",
        "Faça o split do dados para treinamento e teste"
      ]
    },
    {
      "cell_type": "code",
      "execution_count": 12,
      "metadata": {
        "collapsed": true,
        "id": "Qs1EiA6jCV_1"
      },
      "outputs": [],
      "source": [
        "X_treino, X_teste, Y_treino, Y_teste = train_test_split(X, Y, test_size=0.2)"
      ]
    },
    {
      "cell_type": "markdown",
      "metadata": {
        "id": "5tu2PbLfCV_2"
      },
      "source": [
        "## 4. Treinamento e teste do modelo\n",
        "\n",
        "Defina a métrica de performance para avaliação dos modelos de ML"
      ]
    },
    {
      "cell_type": "markdown",
      "metadata": {
        "id": "ufA4YRBJCV_2"
      },
      "source": [
        "**Resposta:**\n",
        "Um mínimo de 80% de acerto"
      ]
    },
    {
      "cell_type": "markdown",
      "metadata": {
        "id": "lJksArpqCV_2"
      },
      "source": [
        "### Treinamento e teste\n",
        "\n",
        "Faça o treinamento e teste de dos 3 algoritmos escolhidos, aplique no treinamento a validação cruzada para um kfold de 5."
      ]
    },
    {
      "cell_type": "markdown",
      "metadata": {
        "id": "ZmPP37oKCV_2"
      },
      "source": [
        "### Algoritmo 1"
      ]
    },
    {
      "cell_type": "code",
      "execution_count": 13,
      "metadata": {
        "colab": {
          "base_uri": "https://localhost:8080/"
        },
        "collapsed": true,
        "id": "Vx4ojKEMCV_2",
        "outputId": "3f96f6dc-09cd-43d9-a06b-b68a806df42a"
      },
      "outputs": [
        {
          "name": "stdout",
          "output_type": "stream",
          "text": [
            "Acerto médio de classificação do teste:  0.8138528138528138\n",
            "Acerto médio de classificação do treino:  0.8492407809110629\n"
          ]
        }
      ],
      "source": [
        "k = 5\n",
        "model = KNeighborsClassifier(n_neighbors=k)\n",
        "\n",
        "model.fit(X_treino, Y_treino)\n",
        "\n",
        "pred = model.predict(X_teste)\n",
        "predT = model.predict(X_treino)\n",
        "\n",
        "print(\"Acerto médio de classificação do teste: \", accuracy_score(Y_teste, pred))\n",
        "print(\"Acerto médio de classificação do treino: \", accuracy_score(Y_treino, predT))"
      ]
    },
    {
      "cell_type": "markdown",
      "metadata": {
        "id": "PCf4cO1sCV_2"
      },
      "source": [
        "### Algoritmo 2"
      ]
    },
    {
      "cell_type": "code",
      "execution_count": 14,
      "metadata": {
        "colab": {
          "base_uri": "https://localhost:8080/"
        },
        "collapsed": true,
        "id": "jbB1t5f3CV_2",
        "outputId": "d8fc5575-481e-4cd7-a1c3-f5b4762bf20c"
      },
      "outputs": [
        {
          "name": "stdout",
          "output_type": "stream",
          "text": [
            "R2-score do teste: 0.22\n",
            "R2-score do treino: 0.18\n"
          ]
        }
      ],
      "source": [
        "lin_model = LinearRegression()\n",
        "\n",
        "lin_model.fit(X_treino, Y_treino)\n",
        "\n",
        "pred = lin_model.predict(X_teste)\n",
        "predT = lin_model.predict(X_treino)\n",
        "\n",
        "i = 0\n",
        "for a in pred:\n",
        "    if a >= 0.5:\n",
        "        pred[i] = 1\n",
        "    else:\n",
        "        pred[i] = 0\n",
        "    i = i + 1\n",
        "\n",
        "i = 0\n",
        "for a in predT:\n",
        "    if a >= 0.5:\n",
        "        predT[i] = 1\n",
        "    else:\n",
        "        predT[i] = 0\n",
        "    i = i + 1\n",
        "\n",
        "print(\"R2-score do teste: %.2f\" % r2_score(pred , Y_teste) )\n",
        "print(\"R2-score do treino: %.2f\" % r2_score(predT , Y_treino) )\n"
      ]
    },
    {
      "cell_type": "markdown",
      "metadata": {
        "id": "EZVSYAQPCV_3"
      },
      "source": [
        "### Algoritmo 3"
      ]
    },
    {
      "cell_type": "code",
      "execution_count": 15,
      "metadata": {
        "colab": {
          "base_uri": "https://localhost:8080/"
        },
        "collapsed": true,
        "id": "lOjUqsCyCV_3",
        "outputId": "5eb6eb8e-2326-4347-bcf2-3129cdb7f3b8"
      },
      "outputs": [
        {
          "name": "stdout",
          "output_type": "stream",
          "text": [
            "Epoch 1/25\n",
            "29/29 [==============================] - 1s 2ms/step - loss: 9816.5039\n",
            "Epoch 2/25\n",
            "29/29 [==============================] - 0s 1ms/step - loss: 130.5630\n",
            "Epoch 3/25\n",
            "29/29 [==============================] - 0s 2ms/step - loss: 2.9048\n",
            "Epoch 4/25\n",
            "29/29 [==============================] - 0s 1ms/step - loss: 0.7724\n",
            "Epoch 5/25\n",
            "29/29 [==============================] - 0s 2ms/step - loss: 0.5159\n",
            "Epoch 6/25\n",
            "29/29 [==============================] - 0s 1ms/step - loss: 0.4625\n",
            "Epoch 7/25\n",
            "29/29 [==============================] - 0s 1ms/step - loss: 0.4312\n",
            "Epoch 8/25\n",
            "29/29 [==============================] - 0s 1ms/step - loss: 0.3922\n",
            "Epoch 9/25\n",
            "29/29 [==============================] - 0s 1ms/step - loss: 0.3743\n",
            "Epoch 10/25\n",
            "29/29 [==============================] - 0s 1ms/step - loss: 0.3366\n",
            "Epoch 11/25\n",
            "29/29 [==============================] - 0s 1ms/step - loss: 0.3378\n",
            "Epoch 12/25\n",
            "29/29 [==============================] - 0s 2ms/step - loss: 0.3395\n",
            "Epoch 13/25\n",
            "29/29 [==============================] - 0s 2ms/step - loss: 0.3103\n",
            "Epoch 14/25\n",
            "29/29 [==============================] - 0s 1ms/step - loss: 0.3037\n",
            "Epoch 15/25\n",
            "29/29 [==============================] - 0s 1ms/step - loss: 0.3035\n",
            "Epoch 16/25\n",
            "29/29 [==============================] - 0s 1ms/step - loss: 0.2674\n",
            "Epoch 17/25\n",
            "29/29 [==============================] - 0s 1ms/step - loss: 0.2613\n",
            "Epoch 18/25\n",
            "29/29 [==============================] - 0s 1ms/step - loss: 0.2517\n",
            "Epoch 19/25\n",
            "29/29 [==============================] - 0s 1ms/step - loss: 0.2392\n",
            "Epoch 20/25\n",
            "29/29 [==============================] - 0s 1ms/step - loss: 0.2396\n",
            "Epoch 21/25\n",
            "29/29 [==============================] - 0s 1ms/step - loss: 0.2442\n",
            "Epoch 22/25\n",
            "29/29 [==============================] - 0s 1ms/step - loss: 0.2391\n",
            "Epoch 23/25\n",
            "29/29 [==============================] - 0s 1ms/step - loss: 0.2300\n",
            "Epoch 24/25\n",
            "29/29 [==============================] - 0s 2ms/step - loss: 0.2374\n",
            "Epoch 25/25\n",
            "29/29 [==============================] - 0s 1ms/step - loss: 0.2384\n"
          ]
        }
      ],
      "source": [
        "model = keras.Sequential([\n",
        "    layers.Dense(units=4, input_shape=[7]),\n",
        "    layers.Dense(units=4),\n",
        "    layers.Dense(units=4),\n",
        "    layers.Dense(units=1)\n",
        "])\n",
        "\n",
        "model.compile(optimizer=tf.keras.optimizers.Adam(0.5), loss = 'mse')\n",
        "\n",
        "epochs_hist = model.fit(X_treino, Y_treino, epochs=25)"
      ]
    },
    {
      "cell_type": "code",
      "execution_count": 16,
      "metadata": {
        "colab": {
          "base_uri": "https://localhost:8080/",
          "height": 265
        },
        "id": "DmVVtfEJCV_3",
        "outputId": "a2d9be12-a01d-4458-c069-9aa601e134a5"
      },
      "outputs": [
        {
          "data": {
            "image/png": "[encoded data removed]",
            "text/plain": [
              "<Figure size 432x288 with 1 Axes>"
            ]
          },
          "metadata": {
            "needs_background": "light"
          },
          "output_type": "display_data"
        }
      ],
      "source": [
        "history_df = pd.DataFrame(epochs_hist.history)\n",
        "\n",
        "history_df['loss'].plot();"
      ]
    },
    {
      "cell_type": "code",
      "execution_count": 17,
      "metadata": {
        "colab": {
          "base_uri": "https://localhost:8080/"
        },
        "id": "6Tza3fWHCV_3",
        "outputId": "763e43e6-de10-497b-b074-71e7341e48c3"
      },
      "outputs": [
        {
          "name": "stdout",
          "output_type": "stream",
          "text": [
            "0.6811279826464208\n"
          ]
        }
      ],
      "source": [
        "pred = model.predict([X_treino])\n",
        "\n",
        "i = 0\n",
        "for a in pred:\n",
        "    if a >= 0.5:\n",
        "        pred[i] = 1\n",
        "    else:\n",
        "        pred[i] = 0\n",
        "    i = i + 1\n",
        "\n",
        "acuracia = 0\n",
        "j = 0\n",
        "for i, v in Y_treino.items():\n",
        "    if pred[j] == v:\n",
        "        acuracia += 1\n",
        "    j = j + 1\n",
        "\n",
        "print(acuracia/len(Y_treino))"
      ]
    },
    {
      "cell_type": "code",
      "execution_count": 18,
      "metadata": {
        "colab": {
          "base_uri": "https://localhost:8080/"
        },
        "id": "pFoEDim_CV_3",
        "outputId": "6336eb20-0c0a-4c97-e644-fb97b8be5e09"
      },
      "outputs": [
        {
          "name": "stdout",
          "output_type": "stream",
          "text": [
            "0.696969696969697\n"
          ]
        }
      ],
      "source": [
        "pred = model.predict([X_teste])\n",
        "\n",
        "i = 0\n",
        "for a in pred:\n",
        "    if a >= 0.5:\n",
        "        pred[i] = 1\n",
        "    else:\n",
        "        pred[i] = 0\n",
        "    i = i + 1\n",
        "\n",
        "acuracia = 0\n",
        "j = 0\n",
        "for i, v in Y_teste.items():\n",
        "    if pred[j] == v:\n",
        "        acuracia += 1\n",
        "    j = j + 1\n",
        "\n",
        "print(acuracia/len(Y_teste))"
      ]
    },
    {
      "cell_type": "markdown",
      "metadata": {
        "id": "ShHuyQt7CV_4"
      },
      "source": [
        "Sumarize na tabela abaixo os resultados obtidos dos modelos de ML para o conjuntos de dados de treino e de testes"
      ]
    },
    {
      "cell_type": "markdown",
      "metadata": {
        "id": "L8kX58nvCV_4"
      },
      "source": [
        "**Resposta:**\n",
        "\n",
        "|                     | algoritmo1 | algoritmo2 | algoritmo3 |\n",
        "|:---------------------|:------------------:|:-----------------------------:|:-----------------:|\n",
        "| treino |      84%           |      16%                       |   79%              |\n",
        "| teste  |      76%            |      35%                       |   83%              |\n"
      ]
    },
    {
      "cell_type": "markdown",
      "metadata": {
        "id": "5_9-5YeRCV_4"
      },
      "source": [
        "**Pergunta:** Qual foi a performance de cada algoritmo? Explique os resultados e detalhe como a característica de cada algoritmo influenciou no resultado.\n",
        "\n",
        "**Resposta:** O algoritmo 1 teve uma performace boa.\n",
        "\n",
        "O algoritmo 2 teve uma performace ruim.\n",
        "\n",
        "O algoritmo 3 teve uma performace boa."
      ]
    },
    {
      "cell_type": "markdown",
      "metadata": {
        "id": "Tq8mRdLmCV_4"
      },
      "source": [
        "## 5. Validação e Otimização do Modelo\n",
        "\n",
        "Faça a otimização dos modelos, tunning dos hiperparametros, utilize uma das técinicas: **RandomSearchCV** ou **GridSearchCV**.\n",
        "\n",
        "\n",
        "Após a otimização dos parametros, treine novamente os 3 algoritmos de ML  utilizando os parametos de otimização e compares seus resultados.\n"
      ]
    },
    {
      "cell_type": "markdown",
      "metadata": {
        "id": "lpF4iM6ICV_4"
      },
      "source": [
        "**Pergunta:** Qual a técnica escolhida? Por que?\n",
        "\n",
        "**Resposta:** A técninca escolhida foi a de GridSearchCV, pois ela é a melhor com aprendizado supervisionado, levando também em conta que nossa database é pequena demais para nos beneficiarmos de todas as qualidades de RandomSearchCV."
      ]
    },
    {
      "cell_type": "code",
      "execution_count": 19,
      "metadata": {
        "colab": {
          "base_uri": "https://localhost:8080/"
        },
        "id": "QqzPhgbSCV_4",
        "outputId": "becb872e-19e1-4140-b6cc-94d868cb010b"
      },
      "outputs": [
        {
          "data": {
            "text/plain": [
              "{'knn__n_neighbors': 5}"
            ]
          },
          "execution_count": 19,
          "metadata": {},
          "output_type": "execute_result"
        }
      ],
      "source": [
        "knn_pipe = Pipeline([('mms', MinMaxScaler()),\n",
        "                     ('knn', KNeighborsClassifier())])\n",
        "params = [{'knn__n_neighbors': [3, 5, 7, 9]}]\n",
        "         \n",
        "gs_knn = GridSearchCV(knn_pipe,\n",
        "                      param_grid=params,\n",
        "                      scoring='accuracy',\n",
        "                      cv=5)\n",
        "gs_knn.fit(X_treino, Y_treino)\n",
        "gs_knn.best_params_"
      ]
    },
    {
      "cell_type": "markdown",
      "metadata": {
        "id": "rvtmzD07CV_5"
      },
      "source": [
        "### Algoritmo 1"
      ]
    },
    {
      "cell_type": "code",
      "execution_count": 20,
      "metadata": {
        "colab": {
          "base_uri": "https://localhost:8080/"
        },
        "collapsed": true,
        "id": "eX6Ox-E-CV_5",
        "outputId": "28755fa8-4481-4fa5-9a74-579f6acd9205"
      },
      "outputs": [
        {
          "name": "stdout",
          "output_type": "stream",
          "text": [
            "Acerto médio de classificação do teste:  0.8354978354978355\n",
            "Acerto médio de classificação do treino:  0.8503253796095445\n"
          ]
        }
      ],
      "source": [
        "k = 7\n",
        "model = KNeighborsClassifier(n_neighbors=k)\n",
        "\n",
        "model.fit(X_treino, Y_treino)\n",
        "\n",
        "predicao = model.predict(X_teste)\n",
        "predicaoTreino = model.predict(X_treino)\n",
        "\n",
        "print(\"Acerto médio de classificação do teste: \", accuracy_score(Y_teste, predicao))\n",
        "print(\"Acerto médio de classificação do treino: \", accuracy_score(Y_treino, predicaoTreino))"
      ]
    },
    {
      "cell_type": "markdown",
      "metadata": {
        "id": "BTfzbGpuCV_5"
      },
      "source": [
        "### Algoritmo 2"
      ]
    },
    {
      "cell_type": "code",
      "execution_count": 21,
      "metadata": {
        "colab": {
          "base_uri": "https://localhost:8080/"
        },
        "collapsed": true,
        "id": "1P1cQCLRCV_5",
        "outputId": "21e98167-29b6-4186-9512-3e79a7bc3ccb"
      },
      "outputs": [
        {
          "name": "stdout",
          "output_type": "stream",
          "text": [
            "R2-score do teste: 0.22\n",
            "R2-score do treino: 0.18\n"
          ]
        }
      ],
      "source": [
        "lin_model = LinearRegression()\n",
        "\n",
        "lin_model.fit(X_treino, Y_treino)\n",
        "\n",
        "predicao = lin_model.predict(X_teste)\n",
        "predicaoTreino = lin_model.predict(X_treino)\n",
        "\n",
        "i = 0\n",
        "for a in predicao:\n",
        "    if a >= 0.5:\n",
        "        predicao[i] = 1\n",
        "    else:\n",
        "        predicao[i] = 0\n",
        "    i = i + 1\n",
        "\n",
        "i = 0\n",
        "for a in predicaoTreino:\n",
        "    if a >= 0.5:\n",
        "        predicaoTreino[i] = 1\n",
        "    else:\n",
        "        predicaoTreino[i] = 0\n",
        "    i = i + 1\n",
        "\n",
        "print(\"R2-score do teste: %.2f\" % r2_score(predicao , Y_teste) )\n",
        "print(\"R2-score do treino: %.2f\" % r2_score(predicaoTreino , Y_treino) )\n"
      ]
    },
    {
      "cell_type": "markdown",
      "metadata": {
        "id": "1IeaYXwVCV_5"
      },
      "source": [
        "### Algoritmo 3"
      ]
    },
    {
      "cell_type": "code",
      "execution_count": 22,
      "metadata": {
        "colab": {
          "base_uri": "https://localhost:8080/"
        },
        "collapsed": true,
        "id": "E0qtt5IACV_5",
        "outputId": "5c2ab953-bc38-4809-fd73-160e0c3227b8"
      },
      "outputs": [
        {
          "name": "stdout",
          "output_type": "stream",
          "text": [
            "Epoch 1/25\n",
            "29/29 [==============================] - 1s 1ms/step - loss: 692.9071\n",
            "Epoch 2/25\n",
            "29/29 [==============================] - 0s 1ms/step - loss: 10.3232\n",
            "Epoch 3/25\n",
            "29/29 [==============================] - 0s 1ms/step - loss: 0.8054\n",
            "Epoch 4/25\n",
            "29/29 [==============================] - 0s 1ms/step - loss: 0.2656\n",
            "Epoch 5/25\n",
            "29/29 [==============================] - 0s 2ms/step - loss: 0.2386\n",
            "Epoch 6/25\n",
            "29/29 [==============================] - 0s 1ms/step - loss: 0.2350\n",
            "Epoch 7/25\n",
            "29/29 [==============================] - 0s 1ms/step - loss: 0.2246\n",
            "Epoch 8/25\n",
            "29/29 [==============================] - 0s 1ms/step - loss: 0.2188\n",
            "Epoch 9/25\n",
            "29/29 [==============================] - 0s 1ms/step - loss: 0.2208\n",
            "Epoch 10/25\n",
            "29/29 [==============================] - 0s 1ms/step - loss: 0.2166\n",
            "Epoch 11/25\n",
            "29/29 [==============================] - 0s 1ms/step - loss: 0.2117\n",
            "Epoch 12/25\n",
            "29/29 [==============================] - 0s 1ms/step - loss: 0.2073\n",
            "Epoch 13/25\n",
            "29/29 [==============================] - 0s 1ms/step - loss: 0.2006\n",
            "Epoch 14/25\n",
            "29/29 [==============================] - 0s 1ms/step - loss: 0.1968\n",
            "Epoch 15/25\n",
            "29/29 [==============================] - 0s 1ms/step - loss: 0.1962\n",
            "Epoch 16/25\n",
            "29/29 [==============================] - 0s 1ms/step - loss: 0.1953\n",
            "Epoch 17/25\n",
            "29/29 [==============================] - 0s 1ms/step - loss: 0.1928\n",
            "Epoch 18/25\n",
            "29/29 [==============================] - 0s 1ms/step - loss: 0.1906\n",
            "Epoch 19/25\n",
            "29/29 [==============================] - 0s 2ms/step - loss: 0.1934\n",
            "Epoch 20/25\n",
            "29/29 [==============================] - 0s 1ms/step - loss: 0.1832\n",
            "Epoch 21/25\n",
            "29/29 [==============================] - 0s 1ms/step - loss: 0.1832\n",
            "Epoch 22/25\n",
            "29/29 [==============================] - 0s 1ms/step - loss: 0.1748\n",
            "Epoch 23/25\n",
            "29/29 [==============================] - 0s 1ms/step - loss: 0.1801\n",
            "Epoch 24/25\n",
            "29/29 [==============================] - 0s 1ms/step - loss: 0.1720\n",
            "Epoch 25/25\n",
            "29/29 [==============================] - 0s 1ms/step - loss: 0.1724\n"
          ]
        }
      ],
      "source": [
        "modelo = keras.Sequential([\n",
        "    layers.Dense(units=4, input_shape=[7]),\n",
        "    layers.Dense(units=3),\n",
        "    layers.Dense(units=1)\n",
        "])\n",
        "\n",
        "modelo.compile(optimizer=tf.keras.optimizers.Adam(0.5), loss = 'mse')\n",
        "\n",
        "epochs_hist = modelo.fit(X_treino, Y_treino, epochs=25)"
      ]
    },
    {
      "cell_type": "code",
      "execution_count": 23,
      "metadata": {
        "colab": {
          "base_uri": "https://localhost:8080/",
          "height": 0
        },
        "id": "QgfS_QAdCV_6",
        "outputId": "55714ca5-df13-4d98-8919-7ffa5ff8d99c"
      },
      "outputs": [
        {
          "data": {
            "image/png": "[encoded data removed]",
            "text/plain": [
              "<Figure size 432x288 with 1 Axes>"
            ]
          },
          "metadata": {
            "needs_background": "light"
          },
          "output_type": "display_data"
        }
      ],
      "source": [
        "history_df = pd.DataFrame(epochs_hist.history)\n",
        "\n",
        "history_df['loss'].plot();"
      ]
    },
    {
      "cell_type": "code",
      "execution_count": 24,
      "metadata": {
        "colab": {
          "base_uri": "https://localhost:8080/"
        },
        "id": "lCkPllLeCV_6",
        "outputId": "cebc5b30-d285-4e6b-b744-fc530a24d405"
      },
      "outputs": [
        {
          "name": "stdout",
          "output_type": "stream",
          "text": [
            "0.7754880694143167\n"
          ]
        }
      ],
      "source": [
        "predicao = modelo.predict([X_treino])\n",
        "\n",
        "i = 0\n",
        "for a in predicao:\n",
        "    if a >= 0.5:\n",
        "        predicao[i] = 1\n",
        "    else:\n",
        "        predicao[i] = 0\n",
        "    i = i + 1\n",
        "\n",
        "acerto = 0\n",
        "j = 0\n",
        "for i, v in Y_treino.items():\n",
        "    if predicao[j] == v:\n",
        "        acerto += 1\n",
        "    j = j + 1\n",
        "\n",
        "print(acerto/len(Y_treino))"
      ]
    },
    {
      "cell_type": "code",
      "execution_count": 25,
      "metadata": {
        "colab": {
          "base_uri": "https://localhost:8080/"
        },
        "id": "NvtfP2ojCV_6",
        "outputId": "f466f55f-1fbd-4f9f-ac9d-0ffcedc9f4db"
      },
      "outputs": [
        {
          "name": "stdout",
          "output_type": "stream",
          "text": [
            "0.8181818181818182\n"
          ]
        }
      ],
      "source": [
        "predicao = modelo.predict([X_teste])\n",
        "\n",
        "i = 0\n",
        "for a in predicao:\n",
        "    if a >= 0.5:\n",
        "        predicao[i] = 1\n",
        "    else:\n",
        "        predicao[i] = 0\n",
        "    i = i + 1\n",
        "\n",
        "acerto = 0\n",
        "j = 0\n",
        "for i, v in Y_teste.items():\n",
        "    if predicao[j] == v:\n",
        "        acerto += 1\n",
        "    j = j + 1\n",
        "\n",
        "print(acerto/len(Y_teste))"
      ]
    },
    {
      "cell_type": "markdown",
      "metadata": {
        "id": "BuQfy__yCV_6"
      },
      "source": [
        "Sumarize na tabela abaixo os resultados obtidos dos modelos de ML para o conjuntos de dados de treino e de testes"
      ]
    },
    {
      "cell_type": "markdown",
      "metadata": {
        "id": "OoPr_xQ3CV_6"
      },
      "source": [
        "**Resposta:**\n",
        "\n",
        "|                     | algoritmo1 | algoritmo2 | algoritmo3 |\n",
        "|:---------------------|:------------------:|:-----------------------------:|:-----------------:|\n",
        "| treino |      81%           |      16%                       |   66%              |\n",
        "| teste  |      76%            |      35%                       |   69%              |\n"
      ]
    },
    {
      "cell_type": "markdown",
      "metadata": {
        "id": "mWbMvhzICV_6"
      },
      "source": [
        "**Pergunta:** Qual dos algoritmos obteve os melhores resultados? Quais características deste algoritmo podem ajudar a justificar tal resultado?\n",
        "\n",
        "**Resposta:** Os algorítmos tiveram um desempenho igual ao visto ateriormente."
      ]
    },
    {
      "cell_type": "markdown",
      "metadata": {
        "id": "AqeFYeuyCV_7"
      },
      "source": [
        "## Salvando o modelo desenvolvido\n",
        "\n",
        "Configure o modelo selecionado com os parâmetros otimizados obtidos anteriormente e salve\n",
        "\n",
        "```python\n",
        "# exemplo de como salvar o modelo \"model\" no arquivo \"modelsave.pkl\"\n",
        "\n",
        "# import lib\n",
        "import pickle\n",
        "\n",
        "# salvar\n",
        "with open('modelsave.pkl', 'wb') as file:\n",
        "    pickle.dump(model, file)\n",
        "\n",
        "```"
      ]
    },
    {
      "cell_type": "code",
      "execution_count": 26,
      "metadata": {
        "collapsed": true,
        "id": "Gu9m3slbCV_7"
      },
      "outputs": [],
      "source": [
        "import pickle\n",
        "\n",
        "# salvar\n",
        "with open('modelsave.pkl', 'wb') as file:\n",
        "    pickle.dump(model, file)\n",
        "\n",
        "with open('modelsave2.pkl', 'wb') as file:\n",
        "    pickle.dump(modelo, file)"
      ]
    },
    {
      "cell_type": "markdown",
      "metadata": {
        "id": "hFQQu1ShCV_7"
      },
      "source": [
        "## 6. Conclusões finais\n",
        "\n",
        "Ufa!!... Chegamos ao final deste projeto. Parabéns! De forma simplificada e completa passamos por todas as etapas de aprendizado de maquina. Outras etapas podem ser adicionadas no tratamento dos dados e desenvolvimento do modelo."
      ]
    },
    {
      "cell_type": "markdown",
      "metadata": {
        "id": "9PYAbgHSCV_7"
      },
      "source": [
        "**Pergunta:**: O modelo desenvolvido obteve um resultado satisfatório? Justifique:\n",
        "\n",
        "**Resposta**: "
      ]
    },
    {
      "cell_type": "markdown",
      "metadata": {
        "collapsed": true,
        "id": "-LadILGhCV_7"
      },
      "source": [
        "**Pergunta:**: O que faria diferente para melhorar resultado obtido? Justifique:\n",
        "\n",
        "**Resposta**: "
      ]
    },
    {
      "cell_type": "markdown",
      "metadata": {
        "id": "R9X2ugoACV_7"
      },
      "source": [
        "**Pergunta:**: As etapas de desenvolvimento se aplicam para um problema de classificação? Justifique:\n",
        "\n",
        "**Resposta**: "
      ]
    },
    {
      "cell_type": "markdown",
      "metadata": {
        "id": "Kv1_oHhdCV_7"
      },
      "source": [
        "## 7. Deploy \n",
        "\n",
        "Etapa bonûs (Até 2 pontos *extra)\n",
        "\n",
        "Essa parte não é obrigatória, por esse motivo é considerada pontuação extra na nota para quem desenvolver.\n",
        "\n",
        "\n",
        "Faça o deploy do modelo de ML desenvolvido em um webserver. Como sugestão utilize Flask ou FastAPI ou Django. Procure por referências na web."
      ]
    }
  ],
  "metadata": {
    "colab": {
      "collapsed_sections": [
        "lJksArpqCV_2",
        "rvtmzD07CV_5",
        "BTfzbGpuCV_5",
        "1IeaYXwVCV_5"
      ],
      "provenance": []
    },
    "kernelspec": {
      "display_name": "Python 3.10.2 64-bit",
      "language": "python",
      "name": "python3"
    },
    "language_info": {
      "codemirror_mode": {
        "name": "ipython",
        "version": 3
      },
      "file_extension": ".py",
      "mimetype": "text/x-python",
      "name": "python",
      "nbconvert_exporter": "python",
      "pygments_lexer": "ipython3",
      "version": "3.10.2"
    },
    "vscode": {
      "interpreter": {
        "hash": "afb734500600fd355917ca529030176ea0ca205570884b88f2f6f7d791fd3fbe"
      }
    }
  },
  "nbformat": 4,
  "nbformat_minor": 0
}
